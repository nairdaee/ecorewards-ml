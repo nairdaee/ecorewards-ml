{
  "cells": [
    {
      "attachments": {},
      "cell_type": "markdown",
      "metadata": {
        "colab_type": "text",
        "id": "view-in-github"
      },
      "source": [
        "<a href=\"https://colab.research.google.com/github/adielwesley/TFLiteModelMetadataGenerator/blob/main/TFLite_Metadata.ipynb\" target=\"_parent\"><img src=\"https://colab.research.google.com/assets/colab-badge.svg\" alt=\"Open In Colab\"/></a>"
      ]
    },
    {
      "cell_type": "code",
      "execution_count": 1,
      "metadata": {
        "colab": {
          "base_uri": "https://localhost:8080/"
        },
        "id": "gfEQB1yyavFf",
        "outputId": "fcdc7553-f32e-49d5-e593-55782a160194"
      },
      "outputs": [
        {
          "name": "stdout",
          "output_type": "stream",
          "text": [
            "Requirement already satisfied: tflite-support in c:\\users\\user\\onedrive\\desktop\\ecorewards\\ecorewards-ml\\.venv\\lib\\site-packages (0.1.0a1)\n",
            "Requirement already satisfied: pybind11>=2.4 in c:\\users\\user\\onedrive\\desktop\\ecorewards\\ecorewards-ml\\.venv\\lib\\site-packages (from tflite-support) (2.10.4)\n",
            "Requirement already satisfied: absl-py>=0.7.0 in c:\\users\\user\\onedrive\\desktop\\ecorewards\\ecorewards-ml\\.venv\\lib\\site-packages (from tflite-support) (1.4.0)\n",
            "Requirement already satisfied: numpy in c:\\users\\user\\onedrive\\desktop\\ecorewards\\ecorewards-ml\\.venv\\lib\\site-packages (from tflite-support) (1.23.5)\n"
          ]
        },
        {
          "name": "stderr",
          "output_type": "stream",
          "text": [
            "\n",
            "[notice] A new release of pip is available: 23.1 -> 23.1.2\n",
            "[notice] To update, run: python.exe -m pip install --upgrade pip\n"
          ]
        }
      ],
      "source": [
        "!pip install tflite-support"
      ]
    },
    {
      "cell_type": "code",
      "execution_count": 2,
      "metadata": {
        "id": "hoBpzaoYaaxy"
      },
      "outputs": [],
      "source": [
        "from tflite_support import flatbuffers\n",
        "from tflite_support import metadata as _metadata\n",
        "from tflite_support import metadata_schema_py_generated as _metadata_fb\n",
        "\n",
        "import os"
      ]
    },
    {
      "cell_type": "code",
      "execution_count": 3,
      "metadata": {
        "id": "m9ZuHAxgagm2"
      },
      "outputs": [],
      "source": [
        "\"\"\" ... \"\"\"\n",
        "\"\"\"Creates the metadata for an image classifier.\"\"\"\n",
        "\n",
        "# Creates model info.\n",
        "model_meta = _metadata_fb.ModelMetadataT()\n",
        "model_meta.name = \"Image classifier\"\n",
        "model_meta.description = (\"Identify the most prominent object in the \"\n",
        "                          \"image from a set of 6 categories such as \"\n",
        "                          \"cardboard, glass, metal, paper, plastic, trash and biodegradable.\")\n",
        "model_meta.version = \"v1\"\n",
        "model_meta.author = \"TensorFlow\"\n",
        "model_meta.license = (\"Apache License. Version 2.0 \"\n",
        "                      \"http://www.apache.org/licenses/LICENSE-2.0.\")"
      ]
    },
    {
      "cell_type": "code",
      "execution_count": 4,
      "metadata": {
        "id": "UmyX60oBc1TI"
      },
      "outputs": [],
      "source": [
        "# Creates input info.\n",
        "input_meta = _metadata_fb.TensorMetadataT()\n",
        "\n",
        "input_meta.name = \"input_image\"\n",
        "input_meta.description = (\n",
        "    \"Input image to be classified. The expected image is {0} x {1}, with \"\n",
        "    \"three channels (red, blue, and green) per pixel. Each value in the \"\n",
        "    \"tensor is a single byte between 0 and 255.\".format(160, 160))\n",
        "input_meta.content = _metadata_fb.ContentT()\n",
        "input_meta.content.contentProperties = _metadata_fb.ImagePropertiesT()\n",
        "input_meta.content.contentProperties.colorSpace = (\n",
        "    _metadata_fb.ColorSpaceType.RGB)\n",
        "input_meta.content.contentPropertiesType = (\n",
        "    _metadata_fb.ContentProperties.ImageProperties)\n",
        "\n",
        "input_normalization = _metadata_fb.ProcessUnitT()\n",
        "input_normalization.optionsType = (\n",
        "    _metadata_fb.ProcessUnitOptions.NormalizationOptions)\n",
        "input_normalization.options = _metadata_fb.NormalizationOptionsT()\n",
        "input_normalization.options.mean = [127.5]\n",
        "input_normalization.options.std = [127.5]\n",
        "input_meta.processUnits = [input_normalization]\n",
        "\n",
        "input_stats = _metadata_fb.StatsT()\n",
        "input_stats.max = [255]\n",
        "input_stats.min = [0]\n",
        "input_meta.stats = input_stats"
      ]
    },
    {
      "cell_type": "code",
      "execution_count": 5,
      "metadata": {
        "id": "ImQjHgqCdnyL"
      },
      "outputs": [],
      "source": [
        "# Creates output info.\n",
        "output_meta = _metadata_fb.TensorMetadataT()\n",
        "output_meta.name = \"probability\"\n",
        "output_meta.description = \"Probabilities of the 6 labels respectively.\"\n",
        "\n",
        "output_meta.content = _metadata_fb.ContentT()\n",
        "output_meta.content.content_properties = _metadata_fb.FeaturePropertiesT()\n",
        "output_meta.content.contentPropertiesType = (\n",
        "    _metadata_fb.ContentProperties.FeatureProperties)\n",
        "\n",
        "output_stats = _metadata_fb.StatsT()\n",
        "output_stats.max = [1.0]\n",
        "output_stats.min = [0.0]\n",
        "output_meta.stats = output_stats\n",
        "\n",
        "label_file = _metadata_fb.AssociatedFileT()\n",
        "label_file.name = os.path.basename(\"labels.txt\")\n",
        "label_file.description = \"Labels for objects that the model can recognize.\"\n",
        "label_file.type = _metadata_fb.AssociatedFileType.TENSOR_AXIS_LABELS\n",
        "output_meta.associatedFiles = [label_file]"
      ]
    },
    {
      "cell_type": "code",
      "execution_count": 6,
      "metadata": {
        "id": "8DO6ecPvdqwY"
      },
      "outputs": [],
      "source": [
        "# Creates subgraph info.\n",
        "subgraph = _metadata_fb.SubGraphMetadataT()\n",
        "subgraph.inputTensorMetadata = [input_meta]\n",
        "subgraph.outputTensorMetadata = [output_meta]\n",
        "model_meta.subgraphMetadata = [subgraph]\n",
        "\n",
        "b = flatbuffers.Builder(0)\n",
        "b.Finish(\n",
        "    model_meta.Pack(b),\n",
        "    _metadata.MetadataPopulator.METADATA_FILE_IDENTIFIER)\n",
        "metadata_buf = b.Output()"
      ]
    },
    {
      "cell_type": "code",
      "execution_count": 10,
      "metadata": {
        "id": "8A_tMP_1tyEJ"
      },
      "outputs": [
        {
          "ename": "ValueError",
          "evalue": "File, 'labels.txt', has already been packed.",
          "output_type": "error",
          "traceback": [
            "\u001b[1;31m---------------------------------------------------------------------------\u001b[0m",
            "\u001b[1;31mValueError\u001b[0m                                Traceback (most recent call last)",
            "Cell \u001b[1;32mIn[10], line 4\u001b[0m\n\u001b[0;32m      2\u001b[0m populator\u001b[39m.\u001b[39mload_metadata_buffer(metadata_buf)\n\u001b[0;32m      3\u001b[0m populator\u001b[39m.\u001b[39mload_associated_files([\u001b[39m\"\u001b[39m\u001b[39mlabels.txt\u001b[39m\u001b[39m\"\u001b[39m])\n\u001b[1;32m----> 4\u001b[0m populator\u001b[39m.\u001b[39;49mpopulate()\n",
            "File \u001b[1;32mc:\\Users\\user\\OneDrive\\Desktop\\ecorewards\\ecorewards-ml\\.venv\\lib\\site-packages\\tflite_support\\metadata.py:239\u001b[0m, in \u001b[0;36mMetadataPopulator.populate\u001b[1;34m(self)\u001b[0m\n\u001b[0;32m    237\u001b[0m \u001b[39mdef\u001b[39;00m \u001b[39mpopulate\u001b[39m(\u001b[39mself\u001b[39m):\n\u001b[0;32m    238\u001b[0m \u001b[39m  \u001b[39m\u001b[39m\"\"\"Populates loaded metadata and associated files into the model file.\"\"\"\u001b[39;00m\n\u001b[1;32m--> 239\u001b[0m   \u001b[39mself\u001b[39;49m\u001b[39m.\u001b[39;49m_assert_validate()\n\u001b[0;32m    240\u001b[0m   \u001b[39mself\u001b[39m\u001b[39m.\u001b[39m_populate_metadata_buffer()\n\u001b[0;32m    241\u001b[0m   \u001b[39mself\u001b[39m\u001b[39m.\u001b[39m_populate_associated_files()\n",
            "File \u001b[1;32mc:\\Users\\user\\OneDrive\\Desktop\\ecorewards\\ecorewards-ml\\.venv\\lib\\site-packages\\tflite_support\\metadata.py:270\u001b[0m, in \u001b[0;36mMetadataPopulator._assert_validate\u001b[1;34m(self)\u001b[0m\n\u001b[0;32m    268\u001b[0m \u001b[39mfor\u001b[39;00m f \u001b[39min\u001b[39;00m to_be_populated_files:\n\u001b[0;32m    269\u001b[0m   \u001b[39mif\u001b[39;00m f \u001b[39min\u001b[39;00m packed_files:\n\u001b[1;32m--> 270\u001b[0m     \u001b[39mraise\u001b[39;00m \u001b[39mValueError\u001b[39;00m(\u001b[39m\"\u001b[39m\u001b[39mFile, \u001b[39m\u001b[39m'\u001b[39m\u001b[39m{0}\u001b[39;00m\u001b[39m'\u001b[39m\u001b[39m, has already been packed.\u001b[39m\u001b[39m\"\u001b[39m\u001b[39m.\u001b[39mformat(f))\n\u001b[0;32m    272\u001b[0m   \u001b[39mif\u001b[39;00m f \u001b[39mnot\u001b[39;00m \u001b[39min\u001b[39;00m recorded_files:\n\u001b[0;32m    273\u001b[0m     warnings\u001b[39m.\u001b[39mwarn(\n\u001b[0;32m    274\u001b[0m         \u001b[39m\"\u001b[39m\u001b[39mFile, \u001b[39m\u001b[39m'\u001b[39m\u001b[39m{0}\u001b[39;00m\u001b[39m'\u001b[39m\u001b[39m, does not exsit in the metadata. But packing it to \u001b[39m\u001b[39m\"\u001b[39m\n\u001b[0;32m    275\u001b[0m         \u001b[39m\"\u001b[39m\u001b[39mtflite model is still allowed.\u001b[39m\u001b[39m\"\u001b[39m\u001b[39m.\u001b[39mformat(f))\n",
            "\u001b[1;31mValueError\u001b[0m: File, 'labels.txt', has already been packed."
          ]
        }
      ],
      "source": [
        "populator = _metadata.MetadataPopulator.with_model_file(\"model_unquant.tflite\")\n",
        "populator.load_metadata_buffer(metadata_buf)\n",
        "populator.load_associated_files([\"labels.txt\"])\n",
        "populator.populate()"
      ]
    },
    {
      "cell_type": "code",
      "execution_count": 13,
      "metadata": {
        "id": "GWyyqHrhZckT"
      },
      "outputs": [],
      "source": [
        "export_model_path = \"model_unquant.tflite\"\n",
        "export_directory = \"\"\n",
        "model_basename = \"model_unquant\""
      ]
    },
    {
      "cell_type": "code",
      "execution_count": 14,
      "metadata": {
        "id": "ZjLxCOMMz_YS"
      },
      "outputs": [],
      "source": [
        "displayer = _metadata.MetadataDisplayer.with_model_file(export_model_path)\n",
        "export_json_file = os.path.join(export_directory, os.path.splitext(model_basename)[0] + \".json\")\n",
        "json_file = displayer.get_metadata_json()\n",
        "\n",
        "# Optional: write out the metadata as a json file\n",
        "with open(export_json_file, \"w\") as f:\n",
        "  f.write(json_file)"
      ]
    }
  ],
  "metadata": {
    "colab": {
      "collapsed_sections": [],
      "include_colab_link": true,
      "name": "TFLite Metadata.ipynb",
      "provenance": []
    },
    "kernelspec": {
      "display_name": "Python 3",
      "language": "python",
      "name": "python3"
    },
    "language_info": {
      "codemirror_mode": {
        "name": "ipython",
        "version": 3
      },
      "file_extension": ".py",
      "mimetype": "text/x-python",
      "name": "python",
      "nbconvert_exporter": "python",
      "pygments_lexer": "ipython3",
      "version": "3.10.1"
    }
  },
  "nbformat": 4,
  "nbformat_minor": 0
}
